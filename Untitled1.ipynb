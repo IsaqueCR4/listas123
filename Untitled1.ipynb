{
  "nbformat": 4,
  "nbformat_minor": 0,
  "metadata": {
    "colab": {
      "provenance": [],
      "authorship_tag": "ABX9TyNQqQoDvaQmOetQyi07B1jE",
      "include_colab_link": true
    },
    "kernelspec": {
      "name": "python3",
      "display_name": "Python 3"
    },
    "language_info": {
      "name": "python"
    }
  },
  "cells": [
    {
      "cell_type": "markdown",
      "metadata": {
        "id": "view-in-github",
        "colab_type": "text"
      },
      "source": [
        "<a href=\"https://colab.research.google.com/github/IsaqueCR4/listas123/blob/main/Untitled1.ipynb\" target=\"_parent\"><img src=\"https://colab.research.google.com/assets/colab-badge.svg\" alt=\"Open In Colab\"/></a>"
      ]
    },
    {
      "cell_type": "code",
      "execution_count": null,
      "metadata": {
        "id": "X11_o_II2pM5"
      },
      "outputs": [],
      "source": [
        "num = float(input(\"Digite um número: \"))\n",
        "if num > 2:\n",
        "    print(\"O número é maior que 2\")\n",
        "elif num < 2:\n",
        "    print(\"O número é menor que 2\")\n",
        "else:\n",
        "    print(\"O número é igual a 2\")"
      ]
    },
    {
      "cell_type": "code",
      "source": [],
      "metadata": {
        "id": "CXXc8pHq7yCl"
      },
      "execution_count": null,
      "outputs": []
    },
    {
      "cell_type": "code",
      "source": [
        "num = float(input(\"Digite um número: \"))\n",
        "valor = float(input(\"Digite o valor de referência: \"))\n",
        "if num > valor:\n",
        "    print(\"O número é maior que\", valor)\n",
        "elif num < valor:\n",
        "    print(\"O número é menor que\", valor)\n",
        "else:\n",
        "    print(\"O número é igual a\", valor)"
      ],
      "metadata": {
        "id": "B57G-Qyy2sHf"
      },
      "execution_count": null,
      "outputs": []
    },
    {
      "cell_type": "code",
      "source": [
        "num = float(input(\"Digite um número: \"))\n",
        "if num >= 10:\n",
        "    print(\"O número é maior ou igual a 10\")\n",
        "else:\n",
        "    print(\"O número é menor que 10\")"
      ],
      "metadata": {
        "id": "yb9gvgrN3gxo"
      },
      "execution_count": null,
      "outputs": []
    },
    {
      "cell_type": "code",
      "source": [
        "num = float(input(\"Digite um número: \"))\n",
        "if num > 0:\n",
        "    print(\"O número é positivo\")\n",
        "elif num < 0:\n",
        "    print(\"O número é negativo\")\n",
        "else:\n",
        "    print(\"O número é zero\")"
      ],
      "metadata": {
        "id": "NwJXyFcw3hT0"
      },
      "execution_count": null,
      "outputs": []
    },
    {
      "cell_type": "code",
      "source": [
        "num = int(input(\"Digite um número: \"))\n",
        "if num % 2 == 0:\n",
        "    print(\"O número é múltiplo de 2\")\n",
        "else:\n",
        "    print(\"O número não é múltiplo de 2\")"
      ],
      "metadata": {
        "id": "GCLra4fF3hp-"
      },
      "execution_count": null,
      "outputs": []
    },
    {
      "cell_type": "code",
      "source": [
        "num = int(input(\"Digite um número: \"))\n",
        "multiplo = int(input(\"Digite o múltiplo: \"))\n",
        "if num % multiplo == 0:\n",
        "    print(\"O número é múltiplo de\", multiplo)\n",
        "else:\n",
        "    print(\"O número não é múltiplo de\", multiplo)"
      ],
      "metadata": {
        "id": "1luOAolk3iAJ"
      },
      "execution_count": null,
      "outputs": []
    },
    {
      "cell_type": "code",
      "source": [
        "num = int(input(\"Digite um número: \"))\n",
        "if num % 2 == 0:\n",
        "    print(\"O número é par\")\n",
        "else:\n",
        "    print(\"O número é ímpar\")"
      ],
      "metadata": {
        "id": "WOZ9410N3iWd"
      },
      "execution_count": null,
      "outputs": []
    },
    {
      "cell_type": "code",
      "source": [
        "num = int(input(\"Digite um número: \"))\n",
        "if num % 2 == 0:\n",
        "    print(\"O número é par\")\n",
        "else:\n",
        "    print(\"O número é ímpar\")"
      ],
      "metadata": {
        "id": "vnia0gtr3il1"
      },
      "execution_count": null,
      "outputs": []
    },
    {
      "cell_type": "code",
      "source": [
        "num = float(input(\"Digite um número: \"))\n",
        "if num > 20:\n",
        "    print(\"A metade do número é\", num / 2)\n",
        "else:\n",
        "    print(\"O número não é maior que 20\")"
      ],
      "metadata": {
        "id": "dWDLmCmp3izm"
      },
      "execution_count": null,
      "outputs": []
    },
    {
      "cell_type": "code",
      "source": [
        "num = float(input(\"Digite um número: \"))\n",
        "if num > 10:\n",
        "    print(\"O quadrado do número é\", num ** 2)\n",
        "else:\n",
        "    print(\"O número não é maior que 10\")"
      ],
      "metadata": {
        "id": "HQTbKjIF3jGV"
      },
      "execution_count": null,
      "outputs": []
    },
    {
      "cell_type": "code",
      "source": [
        "nota1 = float(input(\"Digite a nota da primeira prova: \"))\n",
        "nota2 = float(input(\"Digite a nota da segunda prova: \"))\n",
        "nota3 = float(input(\"Digite a nota da terceira prova: \"))\n",
        "media = (nota1 * 2 + nota2 * 3 + nota3 * 5) / 10\n",
        "if media >= 6:\n",
        "    print(\"O aluno foi aprovado com média\", media)\n",
        "else:\n",
        "    print(\"O aluno foi reprovado com média\", media)"
      ],
      "metadata": {
        "id": "WQ50jCrZ3jZZ"
      },
      "execution_count": null,
      "outputs": []
    },
    {
      "cell_type": "code",
      "source": [
        "nome1 = input(\"Digite o nome da primeira pessoa: \")\n",
        "peso1 = float(input(\"Digite o peso da primeira pessoa: \"))\n",
        "nome2 = input(\"Digite o nome da segunda pessoa: \")\n",
        "peso2 = float(input(\"Digite o peso da segunda pessoa: \"))\n",
        "if peso1 > peso2:\n",
        "    print(nome1, \"é mais pesado(a)\")\n",
        "elif peso2 > peso1:\n",
        "    print(nome2, \"é mais pesado(a)\")\n",
        "else:\n",
        "    print(\"As duas pessoas têm o mesmo peso\")"
      ],
      "metadata": {
        "id": "FCBy754H2sS1"
      },
      "execution_count": null,
      "outputs": []
    },
    {
      "cell_type": "code",
      "source": [
        "num = int(input(\"Digite um número: \"))\n",
        "if 20 <= num <= 90:\n",
        "    print(\"O número está entre 20 e 90\")\n",
        "else:\n",
        "    print(\"O número não está entre 20 e 90\")"
      ],
      "metadata": {
        "id": "fW0hvdYk2s3t"
      },
      "execution_count": null,
      "outputs": []
    },
    {
      "cell_type": "code",
      "source": [
        "num1 = float(input(\"Digite o primeiro número: \"))\n",
        "num2 = float(input(\"Digite o segundo número: \"))\n",
        "if num1 > num2:\n",
        "    print(num1, \"é maior que\", num2)\n",
        "elif num2 > num1:\n",
        "    print(num2, \"é maior que\", num1)\n",
        "else:\n",
        "    print(\"Os números são iguais\")"
      ],
      "metadata": {
        "id": "yTISYSVU2tN5"
      },
      "execution_count": null,
      "outputs": []
    }
  ]
}